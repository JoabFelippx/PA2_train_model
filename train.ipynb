{
 "cells": [
  {
   "cell_type": "code",
   "execution_count": null,
   "id": "1bb2e658",
   "metadata": {},
   "outputs": [],
   "source": [
    "import os"
   ]
  },
  {
   "cell_type": "code",
   "execution_count": null,
   "id": "160c982c",
   "metadata": {},
   "outputs": [],
   "source": [
    "import tensorflow as tf"
   ]
  },
  {
   "cell_type": "code",
   "execution_count": null,
   "id": "8ec077c7",
   "metadata": {},
   "outputs": [],
   "source": [
    "from tensorflow.keras.applications import VGG16\n",
    "from tensorflow.keras.preprocessing.image import ImageDataGenerator\n",
    "from tensorflow.keras.optimizers import RMSprop"
   ]
  },
  {
   "cell_type": "code",
   "execution_count": null,
   "id": "e9d16766",
   "metadata": {
    "lines_to_next_cell": 2
   },
   "outputs": [],
   "source": [
    "from matplotlib import pyplot as plt"
   ]
  },
  {
   "cell_type": "code",
   "execution_count": null,
   "id": "e9bd97d2",
   "metadata": {},
   "outputs": [],
   "source": [
    "# size of the image\n",
    "TGSIZE = (224, 224)\n",
    "input_shape = (224, 224, 3)"
   ]
  },
  {
   "cell_type": "code",
   "execution_count": null,
   "id": "90fd1b69",
   "metadata": {
    "lines_to_next_cell": 2
   },
   "outputs": [],
   "source": [
    "dataset_path = '' # path to the dataset folder "
   ]
  },
  {
   "cell_type": "code",
   "execution_count": null,
   "id": "8158092b",
   "metadata": {},
   "outputs": [],
   "source": [
    "train_dir = f'{dataset_path}/train'\n",
    "valid_dir = f'{dataset_path}/dataset/valid'"
   ]
  },
  {
   "cell_type": "code",
   "execution_count": null,
   "id": "e29ef5c4",
   "metadata": {},
   "outputs": [],
   "source": [
    "train_junior_dir = os.path.join(train_dir, 'junior')\n",
    "train_gustavo_dir = os.path.join(train_dir, 'gustavo')"
   ]
  },
  {
   "cell_type": "code",
   "execution_count": null,
   "id": "e33bbe76",
   "metadata": {},
   "outputs": [],
   "source": [
    "valid_junior_dir = os.path.join(valid_dir, 'junior')\n",
    "valid_gustavo_dir = os.path.join(valid_dir, 'gustavo')"
   ]
  },
  {
   "cell_type": "markdown",
   "id": "c7d9b94a",
   "metadata": {},
   "source": [
    "train and validation generator with data augmentation"
   ]
  },
  {
   "cell_type": "code",
   "execution_count": null,
   "id": "48f8233c",
   "metadata": {},
   "outputs": [],
   "source": [
    "def train_valid_generator(train_dir, valid_dir):\n",
    "\n",
    "    train_datagen = ImageDataGenerator(rescale=1./255, rotation_range=40, horizontal_flip=True, fill_mode='nearest')\n",
    "    valid_datagen = ImageDataGenerator(rescale=1./255)\n",
    "    \n",
    "    train_generator = train_datagen.flow_from_directory(train_dir, target_size=TGSIZE, batch_size=20, class_mode='binary')\n",
    "    valid_generator = valid_datagen.flow_from_directory(valid_dir, target_size=TGSIZE, batch_size=20, class_mode='binary')\n",
    "    \n",
    "    return train_generator, valid_generator"
   ]
  },
  {
   "cell_type": "code",
   "execution_count": null,
   "id": "1d8c5361",
   "metadata": {
    "lines_to_next_cell": 1
   },
   "outputs": [],
   "source": [
    "train_generator, valid_generator = train_valid_generator(train_dir, valid_dir)"
   ]
  },
  {
   "cell_type": "code",
   "execution_count": null,
   "id": "24992ee3",
   "metadata": {},
   "outputs": [],
   "source": [
    "# load the VGG16 model \n",
    "def create_pretrained_model():\n",
    "\n",
    "    pre_trained_model_vgg16 = VGG16(input_shape=input_shape, weights=None, include_top=False)\n",
    "    \n",
    "    for layer in pre_trained_model_vgg16.layers:\n",
    "        layer.trainable = False\n",
    "    \n",
    "    return pre_trained_model_vgg16"
   ]
  },
  {
   "cell_type": "code",
   "execution_count": null,
   "id": "ae10cbb6",
   "metadata": {},
   "outputs": [],
   "source": [
    "pre_trained_model_vgg16 = create_pretrained_model()"
   ]
  },
  {
   "cell_type": "code",
   "execution_count": null,
   "id": "d8cd9d2d",
   "metadata": {},
   "outputs": [],
   "source": [
    "# show the model summary\n",
    "pre_trained_model_vgg16.summary()"
   ]
  },
  {
   "cell_type": "code",
   "execution_count": null,
   "id": "4c23dd8d",
   "metadata": {},
   "outputs": [],
   "source": [
    "# callback to stop the training when the accuracy reaches 99.9%\n",
    "class myCallback(tf.keras.callbacks.Callback):\n",
    "  \n",
    "  def on_epoch_end(self, epoch, logs={}):\n",
    "\n",
    "    if(logs.get('accuracy')>0.999):\n",
    "      print(\"\\nAtingi 99,9% de precisão, portanto, estou cancelando o treinamento!!\")\n",
    "      self.model.stop_training = True"
   ]
  },
  {
   "cell_type": "code",
   "execution_count": null,
   "id": "f9847b26",
   "metadata": {
    "lines_to_next_cell": 1
   },
   "outputs": [],
   "source": [
    "# output of the last layer of the VGG16 model\n",
    "def output_last_layer(pre_trained_model_vgg16):\n",
    "\n",
    "    last_layer = pre_trained_model_vgg16.get_layer('block5_pool')\n",
    "    last_output = last_layer.output\n",
    "    \n",
    "    return last_output"
   ]
  },
  {
   "cell_type": "code",
   "execution_count": null,
   "id": "339a4cc1",
   "metadata": {},
   "outputs": [],
   "source": [
    "last_output = output_last_layer(pre_trained_model_vgg16)"
   ]
  },
  {
   "cell_type": "code",
   "execution_count": null,
   "id": "fe4adb98",
   "metadata": {
    "lines_to_next_cell": 1
   },
   "outputs": [],
   "source": [
    "# create the final model \n",
    "def create_final_model(pre_trained_model_vgg16, last_output):\n",
    "\n",
    "    x = tf.keras.layers.Flatten()(last_output)\n",
    "    x = tf.keras.layers.Dense(1024, activation='relu')(x)    \n",
    "    x = tf.keras.layers.Dropout(0.2)(x)\n",
    "    x = tf.keras.layers.Dense(2, activation='softmax')(x)\n",
    "    \n",
    "    model = tf.keras.Model(pre_trained_model_vgg16.input, x)\n",
    "    \n",
    "    model.compile(optimizer=RMSprop(learning_rate=0.0001), loss='sparse_categorical_crossentropy', metrics=['accuracy'])\n",
    "\n",
    "    return model"
   ]
  },
  {
   "cell_type": "code",
   "execution_count": null,
   "id": "98f3c4a5",
   "metadata": {},
   "outputs": [],
   "source": [
    "model = create_final_model(pre_trained_model_vgg16, last_output)"
   ]
  },
  {
   "cell_type": "code",
   "execution_count": null,
   "id": "c998f1e4",
   "metadata": {},
   "outputs": [],
   "source": [
    "callbacks = myCallback()\n",
    "history = model.fit(train_generator, validation_data=valid_generator, epochs=100, verbose=2, callbacks=[callbacks])"
   ]
  },
  {
   "cell_type": "code",
   "execution_count": null,
   "id": "df7cd553",
   "metadata": {},
   "outputs": [],
   "source": [
    "acc = history.history['accuracy']\n",
    "val_acc = history.history['val_accuracy']\n",
    "loss = history.history['loss']\n",
    "val_loss = history.history['val_loss']"
   ]
  },
  {
   "cell_type": "code",
   "execution_count": null,
   "id": "4730cdb7",
   "metadata": {},
   "outputs": [],
   "source": [
    "epochs = range(len(acc))"
   ]
  },
  {
   "cell_type": "code",
   "execution_count": null,
   "id": "f8764df5",
   "metadata": {},
   "outputs": [],
   "source": [
    "plt.plot(epochs, acc, 'r', label='Acurácia de Treino')\n",
    "plt.plot(epochs, val_acc, 'b', label='Acurácia de Validação')\n",
    "plt.title('Acurácia de Treino e Validação')\n",
    "plt.legend(loc=0)\n",
    "plt.figure()"
   ]
  },
  {
   "cell_type": "code",
   "execution_count": null,
   "id": "494e3d0f",
   "metadata": {},
   "outputs": [],
   "source": [
    "plt.show()"
   ]
  }
 ],
 "metadata": {
  "jupytext": {
   "cell_metadata_filter": "-all",
   "main_language": "python",
   "notebook_metadata_filter": "-all"
  }
 },
 "nbformat": 4,
 "nbformat_minor": 5
}
