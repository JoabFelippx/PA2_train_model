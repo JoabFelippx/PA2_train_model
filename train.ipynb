{
  "cells": [
    {
      "cell_type": "code",
      "source": [
        "!git clone https://github.com/JoabFelippx/PA2_train_model.git"
      ],
      "metadata": {
        "id": "e4HlvAHBXebK",
        "outputId": "086f0ce6-ace0-4e89-da98-f3c65fb2a114",
        "colab": {
          "base_uri": "https://localhost:8080/"
        }
      },
      "id": "e4HlvAHBXebK",
      "execution_count": null,
      "outputs": [
        {
          "output_type": "stream",
          "name": "stdout",
          "text": [
            "Cloning into 'PA2_train_model'...\n",
            "remote: Enumerating objects: 27, done.\u001b[K\n",
            "remote: Counting objects: 100% (27/27), done.\u001b[K\n",
            "remote: Compressing objects: 100% (26/26), done.\u001b[K\n",
            "remote: Total 27 (delta 7), reused 0 (delta 0), pack-reused 0\u001b[K\n",
            "Receiving objects: 100% (27/27), 1.54 MiB | 4.70 MiB/s, done.\n",
            "Resolving deltas: 100% (7/7), done.\n"
          ]
        }
      ]
    },
    {
      "cell_type": "code",
      "source": [
        "!pip install -r /content/PA2_train_model/requirements.txt"
      ],
      "metadata": {
        "id": "AjJhieg1YTBr",
        "outputId": "5a464f07-5f06-4d07-bdc6-9443853cb73c",
        "colab": {
          "base_uri": "https://localhost:8080/"
        }
      },
      "id": "AjJhieg1YTBr",
      "execution_count": null,
      "outputs": [
        {
          "output_type": "stream",
          "name": "stdout",
          "text": [
            "Requirement already satisfied: tensorflow in /usr/local/lib/python3.10/dist-packages (from -r /content/PA2_train_model/requirements.txt (line 1)) (2.15.0)\n",
            "Requirement already satisfied: matplotlib in /usr/local/lib/python3.10/dist-packages (from -r /content/PA2_train_model/requirements.txt (line 2)) (3.7.1)\n",
            "Requirement already satisfied: scipy in /usr/local/lib/python3.10/dist-packages (from -r /content/PA2_train_model/requirements.txt (line 3)) (1.11.4)\n",
            "Requirement already satisfied: absl-py>=1.0.0 in /usr/local/lib/python3.10/dist-packages (from tensorflow->-r /content/PA2_train_model/requirements.txt (line 1)) (1.4.0)\n",
            "Requirement already satisfied: astunparse>=1.6.0 in /usr/local/lib/python3.10/dist-packages (from tensorflow->-r /content/PA2_train_model/requirements.txt (line 1)) (1.6.3)\n",
            "Requirement already satisfied: flatbuffers>=23.5.26 in /usr/local/lib/python3.10/dist-packages (from tensorflow->-r /content/PA2_train_model/requirements.txt (line 1)) (24.3.25)\n",
            "Requirement already satisfied: gast!=0.5.0,!=0.5.1,!=0.5.2,>=0.2.1 in /usr/local/lib/python3.10/dist-packages (from tensorflow->-r /content/PA2_train_model/requirements.txt (line 1)) (0.5.4)\n",
            "Requirement already satisfied: google-pasta>=0.1.1 in /usr/local/lib/python3.10/dist-packages (from tensorflow->-r /content/PA2_train_model/requirements.txt (line 1)) (0.2.0)\n",
            "Requirement already satisfied: h5py>=2.9.0 in /usr/local/lib/python3.10/dist-packages (from tensorflow->-r /content/PA2_train_model/requirements.txt (line 1)) (3.9.0)\n",
            "Requirement already satisfied: libclang>=13.0.0 in /usr/local/lib/python3.10/dist-packages (from tensorflow->-r /content/PA2_train_model/requirements.txt (line 1)) (18.1.1)\n",
            "Requirement already satisfied: ml-dtypes~=0.2.0 in /usr/local/lib/python3.10/dist-packages (from tensorflow->-r /content/PA2_train_model/requirements.txt (line 1)) (0.2.0)\n",
            "Requirement already satisfied: numpy<2.0.0,>=1.23.5 in /usr/local/lib/python3.10/dist-packages (from tensorflow->-r /content/PA2_train_model/requirements.txt (line 1)) (1.25.2)\n",
            "Requirement already satisfied: opt-einsum>=2.3.2 in /usr/local/lib/python3.10/dist-packages (from tensorflow->-r /content/PA2_train_model/requirements.txt (line 1)) (3.3.0)\n",
            "Requirement already satisfied: packaging in /usr/local/lib/python3.10/dist-packages (from tensorflow->-r /content/PA2_train_model/requirements.txt (line 1)) (24.0)\n",
            "Requirement already satisfied: protobuf!=4.21.0,!=4.21.1,!=4.21.2,!=4.21.3,!=4.21.4,!=4.21.5,<5.0.0dev,>=3.20.3 in /usr/local/lib/python3.10/dist-packages (from tensorflow->-r /content/PA2_train_model/requirements.txt (line 1)) (3.20.3)\n",
            "Requirement already satisfied: setuptools in /usr/local/lib/python3.10/dist-packages (from tensorflow->-r /content/PA2_train_model/requirements.txt (line 1)) (67.7.2)\n",
            "Requirement already satisfied: six>=1.12.0 in /usr/local/lib/python3.10/dist-packages (from tensorflow->-r /content/PA2_train_model/requirements.txt (line 1)) (1.16.0)\n",
            "Requirement already satisfied: termcolor>=1.1.0 in /usr/local/lib/python3.10/dist-packages (from tensorflow->-r /content/PA2_train_model/requirements.txt (line 1)) (2.4.0)\n",
            "Requirement already satisfied: typing-extensions>=3.6.6 in /usr/local/lib/python3.10/dist-packages (from tensorflow->-r /content/PA2_train_model/requirements.txt (line 1)) (4.11.0)\n",
            "Requirement already satisfied: wrapt<1.15,>=1.11.0 in /usr/local/lib/python3.10/dist-packages (from tensorflow->-r /content/PA2_train_model/requirements.txt (line 1)) (1.14.1)\n",
            "Requirement already satisfied: tensorflow-io-gcs-filesystem>=0.23.1 in /usr/local/lib/python3.10/dist-packages (from tensorflow->-r /content/PA2_train_model/requirements.txt (line 1)) (0.37.0)\n",
            "Requirement already satisfied: grpcio<2.0,>=1.24.3 in /usr/local/lib/python3.10/dist-packages (from tensorflow->-r /content/PA2_train_model/requirements.txt (line 1)) (1.63.0)\n",
            "Requirement already satisfied: tensorboard<2.16,>=2.15 in /usr/local/lib/python3.10/dist-packages (from tensorflow->-r /content/PA2_train_model/requirements.txt (line 1)) (2.15.2)\n",
            "Requirement already satisfied: tensorflow-estimator<2.16,>=2.15.0 in /usr/local/lib/python3.10/dist-packages (from tensorflow->-r /content/PA2_train_model/requirements.txt (line 1)) (2.15.0)\n",
            "Requirement already satisfied: keras<2.16,>=2.15.0 in /usr/local/lib/python3.10/dist-packages (from tensorflow->-r /content/PA2_train_model/requirements.txt (line 1)) (2.15.0)\n",
            "Requirement already satisfied: contourpy>=1.0.1 in /usr/local/lib/python3.10/dist-packages (from matplotlib->-r /content/PA2_train_model/requirements.txt (line 2)) (1.2.1)\n",
            "Requirement already satisfied: cycler>=0.10 in /usr/local/lib/python3.10/dist-packages (from matplotlib->-r /content/PA2_train_model/requirements.txt (line 2)) (0.12.1)\n",
            "Requirement already satisfied: fonttools>=4.22.0 in /usr/local/lib/python3.10/dist-packages (from matplotlib->-r /content/PA2_train_model/requirements.txt (line 2)) (4.51.0)\n",
            "Requirement already satisfied: kiwisolver>=1.0.1 in /usr/local/lib/python3.10/dist-packages (from matplotlib->-r /content/PA2_train_model/requirements.txt (line 2)) (1.4.5)\n",
            "Requirement already satisfied: pillow>=6.2.0 in /usr/local/lib/python3.10/dist-packages (from matplotlib->-r /content/PA2_train_model/requirements.txt (line 2)) (9.4.0)\n",
            "Requirement already satisfied: pyparsing>=2.3.1 in /usr/local/lib/python3.10/dist-packages (from matplotlib->-r /content/PA2_train_model/requirements.txt (line 2)) (3.1.2)\n",
            "Requirement already satisfied: python-dateutil>=2.7 in /usr/local/lib/python3.10/dist-packages (from matplotlib->-r /content/PA2_train_model/requirements.txt (line 2)) (2.8.2)\n",
            "Requirement already satisfied: wheel<1.0,>=0.23.0 in /usr/local/lib/python3.10/dist-packages (from astunparse>=1.6.0->tensorflow->-r /content/PA2_train_model/requirements.txt (line 1)) (0.43.0)\n",
            "Requirement already satisfied: google-auth<3,>=1.6.3 in /usr/local/lib/python3.10/dist-packages (from tensorboard<2.16,>=2.15->tensorflow->-r /content/PA2_train_model/requirements.txt (line 1)) (2.27.0)\n",
            "Requirement already satisfied: google-auth-oauthlib<2,>=0.5 in /usr/local/lib/python3.10/dist-packages (from tensorboard<2.16,>=2.15->tensorflow->-r /content/PA2_train_model/requirements.txt (line 1)) (1.2.0)\n",
            "Requirement already satisfied: markdown>=2.6.8 in /usr/local/lib/python3.10/dist-packages (from tensorboard<2.16,>=2.15->tensorflow->-r /content/PA2_train_model/requirements.txt (line 1)) (3.6)\n",
            "Requirement already satisfied: requests<3,>=2.21.0 in /usr/local/lib/python3.10/dist-packages (from tensorboard<2.16,>=2.15->tensorflow->-r /content/PA2_train_model/requirements.txt (line 1)) (2.31.0)\n",
            "Requirement already satisfied: tensorboard-data-server<0.8.0,>=0.7.0 in /usr/local/lib/python3.10/dist-packages (from tensorboard<2.16,>=2.15->tensorflow->-r /content/PA2_train_model/requirements.txt (line 1)) (0.7.2)\n",
            "Requirement already satisfied: werkzeug>=1.0.1 in /usr/local/lib/python3.10/dist-packages (from tensorboard<2.16,>=2.15->tensorflow->-r /content/PA2_train_model/requirements.txt (line 1)) (3.0.2)\n",
            "Requirement already satisfied: cachetools<6.0,>=2.0.0 in /usr/local/lib/python3.10/dist-packages (from google-auth<3,>=1.6.3->tensorboard<2.16,>=2.15->tensorflow->-r /content/PA2_train_model/requirements.txt (line 1)) (5.3.3)\n",
            "Requirement already satisfied: pyasn1-modules>=0.2.1 in /usr/local/lib/python3.10/dist-packages (from google-auth<3,>=1.6.3->tensorboard<2.16,>=2.15->tensorflow->-r /content/PA2_train_model/requirements.txt (line 1)) (0.4.0)\n",
            "Requirement already satisfied: rsa<5,>=3.1.4 in /usr/local/lib/python3.10/dist-packages (from google-auth<3,>=1.6.3->tensorboard<2.16,>=2.15->tensorflow->-r /content/PA2_train_model/requirements.txt (line 1)) (4.9)\n",
            "Requirement already satisfied: requests-oauthlib>=0.7.0 in /usr/local/lib/python3.10/dist-packages (from google-auth-oauthlib<2,>=0.5->tensorboard<2.16,>=2.15->tensorflow->-r /content/PA2_train_model/requirements.txt (line 1)) (1.3.1)\n",
            "Requirement already satisfied: charset-normalizer<4,>=2 in /usr/local/lib/python3.10/dist-packages (from requests<3,>=2.21.0->tensorboard<2.16,>=2.15->tensorflow->-r /content/PA2_train_model/requirements.txt (line 1)) (3.3.2)\n",
            "Requirement already satisfied: idna<4,>=2.5 in /usr/local/lib/python3.10/dist-packages (from requests<3,>=2.21.0->tensorboard<2.16,>=2.15->tensorflow->-r /content/PA2_train_model/requirements.txt (line 1)) (3.7)\n",
            "Requirement already satisfied: urllib3<3,>=1.21.1 in /usr/local/lib/python3.10/dist-packages (from requests<3,>=2.21.0->tensorboard<2.16,>=2.15->tensorflow->-r /content/PA2_train_model/requirements.txt (line 1)) (2.0.7)\n",
            "Requirement already satisfied: certifi>=2017.4.17 in /usr/local/lib/python3.10/dist-packages (from requests<3,>=2.21.0->tensorboard<2.16,>=2.15->tensorflow->-r /content/PA2_train_model/requirements.txt (line 1)) (2024.2.2)\n",
            "Requirement already satisfied: MarkupSafe>=2.1.1 in /usr/local/lib/python3.10/dist-packages (from werkzeug>=1.0.1->tensorboard<2.16,>=2.15->tensorflow->-r /content/PA2_train_model/requirements.txt (line 1)) (2.1.5)\n",
            "Requirement already satisfied: pyasn1<0.7.0,>=0.4.6 in /usr/local/lib/python3.10/dist-packages (from pyasn1-modules>=0.2.1->google-auth<3,>=1.6.3->tensorboard<2.16,>=2.15->tensorflow->-r /content/PA2_train_model/requirements.txt (line 1)) (0.6.0)\n",
            "Requirement already satisfied: oauthlib>=3.0.0 in /usr/local/lib/python3.10/dist-packages (from requests-oauthlib>=0.7.0->google-auth-oauthlib<2,>=0.5->tensorboard<2.16,>=2.15->tensorflow->-r /content/PA2_train_model/requirements.txt (line 1)) (3.2.2)\n"
          ]
        }
      ]
    },
    {
      "cell_type": "code",
      "source": [
        "!unzip -o /content/PA2_train_model/dataset.zip -d /content/"
      ],
      "metadata": {
        "id": "vUEjj0dDZbWW",
        "outputId": "2075f8ec-0f72-4d3c-ea9a-587167522d36",
        "colab": {
          "base_uri": "https://localhost:8080/"
        }
      },
      "id": "vUEjj0dDZbWW",
      "execution_count": null,
      "outputs": [
        {
          "output_type": "stream",
          "name": "stdout",
          "text": [
            "Archive:  /content/PA2_train_model/dataset.zip\n",
            "   creating: /content/dataset/\n",
            "   creating: /content/dataset/valid/\n",
            "   creating: /content/dataset/valid/junior/\n",
            "  inflating: /content/dataset/valid/junior/junior_face_8.jpg  \n",
            "  inflating: /content/dataset/valid/junior/junior_face_9.jpg  \n",
            "  inflating: /content/dataset/valid/junior/junior_face_7.jpg  \n",
            "  inflating: /content/dataset/valid/junior/junior_face_2.jpg  \n",
            "  inflating: /content/dataset/valid/junior/junior_face_5.jpg  \n",
            "  inflating: /content/dataset/valid/junior/junior_face_3.jpg  \n",
            "  inflating: /content/dataset/valid/junior/junior_face_11.jpg  \n",
            "  inflating: /content/dataset/valid/junior/junior_face_4.jpg  \n",
            "  inflating: /content/dataset/valid/junior/junior_face_6.jpg  \n",
            "  inflating: /content/dataset/valid/junior/junior_face_10.jpg  \n",
            "   creating: /content/dataset/valid/gustavo/\n",
            "  inflating: /content/dataset/valid/gustavo/gustavo_face_9.jpg  \n",
            "  inflating: /content/dataset/valid/gustavo/gustavo_face_6.jpg  \n",
            "  inflating: /content/dataset/valid/gustavo/gustavo_face_2.jpg  \n",
            "  inflating: /content/dataset/valid/gustavo/gustavo_face_5.jpg  \n",
            "  inflating: /content/dataset/valid/gustavo/gustavo_face_11.jpg  \n",
            "  inflating: /content/dataset/valid/gustavo/gustavo_face_7.jpg  \n",
            "  inflating: /content/dataset/valid/gustavo/gustavo_face_8.jpg  \n",
            "  inflating: /content/dataset/valid/gustavo/gustavo_face_3.jpg  \n",
            "  inflating: /content/dataset/valid/gustavo/gustavo_face_10.jpg  \n",
            "  inflating: /content/dataset/valid/gustavo/gustavo_face_4.jpg  \n",
            "   creating: /content/dataset/train/\n",
            "   creating: /content/dataset/train/gustavo/\n",
            "  inflating: /content/dataset/train/gustavo/gustavo_face_50.jpg  \n",
            "  inflating: /content/dataset/train/gustavo/gustavo_face_40.jpg  \n",
            "  inflating: /content/dataset/train/gustavo/gustavo_face_46.jpg  \n",
            "  inflating: /content/dataset/train/gustavo/gustavo_face_37.jpg  \n",
            "  inflating: /content/dataset/train/gustavo/gustavo_face_41.jpg  \n",
            "  inflating: /content/dataset/train/gustavo/gustavo_face_44.jpg  \n",
            "  inflating: /content/dataset/train/gustavo/gustavo_face_55.jpg  \n",
            "  inflating: /content/dataset/train/gustavo/gustavo_face_45.jpg  \n",
            "  inflating: /content/dataset/train/gustavo/gustavo_face_52.jpg  \n",
            "  inflating: /content/dataset/train/gustavo/gustavo_face_49.jpg  \n",
            "  inflating: /content/dataset/train/gustavo/gustavo_face_53.jpg  \n",
            "  inflating: /content/dataset/train/gustavo/gustavo_face_42.jpg  \n",
            "  inflating: /content/dataset/train/gustavo/gustavo_face_47.jpg  \n",
            "  inflating: /content/dataset/train/gustavo/gustavo_face_43.jpg  \n",
            "  inflating: /content/dataset/train/gustavo/gustavo_face_51.jpg  \n",
            "  inflating: /content/dataset/train/gustavo/gustavo_face_35.jpg  \n",
            "  inflating: /content/dataset/train/gustavo/gustavo_face_30.jpg  \n",
            "  inflating: /content/dataset/train/gustavo/gustavo_face_54.jpg  \n",
            "  inflating: /content/dataset/train/gustavo/gustavo_face_26.jpg  \n",
            "  inflating: /content/dataset/train/gustavo/gustavo_face_48.jpg  \n",
            "  inflating: /content/dataset/train/gustavo/gustavo_face_29.jpg  \n",
            "  inflating: /content/dataset/train/gustavo/gustavo_face_34.jpg  \n",
            "  inflating: /content/dataset/train/gustavo/gustavo_face_33.jpg  \n",
            "  inflating: /content/dataset/train/gustavo/gustavo_face_16.jpg  \n",
            "  inflating: /content/dataset/train/gustavo/gustavo_face_15.jpg  \n",
            "  inflating: /content/dataset/train/gustavo/gustavo_face_36.jpg  \n",
            "  inflating: /content/dataset/train/gustavo/gustavo_face_24.jpg  \n",
            "  inflating: /content/dataset/train/gustavo/gustavo_face_31.jpg  \n",
            "  inflating: /content/dataset/train/gustavo/gustavo_face_32.jpg  \n",
            "  inflating: /content/dataset/train/gustavo/gustavo_face_39.jpg  \n",
            "  inflating: /content/dataset/train/gustavo/gustavo_face_38.jpg  \n",
            "  inflating: /content/dataset/train/gustavo/gustavo_face_28.jpg  \n",
            "  inflating: /content/dataset/train/gustavo/gustavo_face_27.jpg  \n",
            "  inflating: /content/dataset/train/gustavo/gustavo_face_13.jpg  \n",
            "  inflating: /content/dataset/train/gustavo/gustavo_face_14.jpg  \n",
            "  inflating: /content/dataset/train/gustavo/gustavo_face_25.jpg  \n",
            "   creating: /content/dataset/train/junior/\n",
            "  inflating: /content/dataset/train/junior/junior_face_58.jpg  \n",
            "  inflating: /content/dataset/train/junior/junior_face_55.jpg  \n",
            "  inflating: /content/dataset/train/junior/junior_face_54.jpg  \n",
            "  inflating: /content/dataset/train/junior/junior_face_48.jpg  \n",
            "  inflating: /content/dataset/train/junior/junior_face_53.jpg  \n",
            "  inflating: /content/dataset/train/junior/junior_face_51.jpg  \n",
            "  inflating: /content/dataset/train/junior/junior_face_60.jpg  \n",
            "  inflating: /content/dataset/train/junior/junior_face_56.jpg  \n",
            "  inflating: /content/dataset/train/junior/junior_face_57.jpg  \n",
            "  inflating: /content/dataset/train/junior/junior_face_52.jpg  \n",
            "  inflating: /content/dataset/train/junior/junior_face_50.jpg  \n",
            "  inflating: /content/dataset/train/junior/junior_face_46.jpg  \n",
            "  inflating: /content/dataset/train/junior/junior_face_49.jpg  \n",
            "  inflating: /content/dataset/train/junior/junior_face_61.jpg  \n",
            "  inflating: /content/dataset/train/junior/junior_face_59.jpg  \n",
            "  inflating: /content/dataset/train/junior/junior_face_42.jpg  \n",
            "  inflating: /content/dataset/train/junior/junior_face_41.jpg  \n",
            "  inflating: /content/dataset/train/junior/junior_face_43.jpg  \n",
            "  inflating: /content/dataset/train/junior/junior_face_36.jpg  \n",
            "  inflating: /content/dataset/train/junior/junior_face_47.jpg  \n",
            "  inflating: /content/dataset/train/junior/junior_face_40.jpg  \n",
            "  inflating: /content/dataset/train/junior/junior_face_23.jpg  \n",
            "  inflating: /content/dataset/train/junior/junior_face_44.jpg  \n",
            "  inflating: /content/dataset/train/junior/junior_face_35.jpg  \n",
            "  inflating: /content/dataset/train/junior/junior_face_32.jpg  \n",
            "  inflating: /content/dataset/train/junior/junior_face_20.jpg  \n",
            "  inflating: /content/dataset/train/junior/junior_face_37.jpg  \n",
            "  inflating: /content/dataset/train/junior/junior_face_31.jpg  \n",
            "  inflating: /content/dataset/train/junior/junior_face_26.jpg  \n",
            "  inflating: /content/dataset/train/junior/junior_face_39.jpg  \n",
            "  inflating: /content/dataset/train/junior/junior_face_29.jpg  \n",
            "  inflating: /content/dataset/train/junior/junior_face_45.jpg  \n",
            "  inflating: /content/dataset/train/junior/junior_face_33.jpg  \n",
            "  inflating: /content/dataset/train/junior/junior_face_30.jpg  \n",
            "  inflating: /content/dataset/train/junior/junior_face_17.jpg  \n",
            "  inflating: /content/dataset/train/junior/junior_face_34.jpg  \n",
            "  inflating: /content/dataset/train/junior/junior_face_27.jpg  \n",
            "  inflating: /content/dataset/train/junior/junior_face_22.jpg  \n",
            "  inflating: /content/dataset/train/junior/junior_face_13.jpg  \n",
            "  inflating: /content/dataset/train/junior/junior_face_16.jpg  \n",
            "  inflating: /content/dataset/train/junior/junior_face_19.jpg  \n",
            "  inflating: /content/dataset/train/junior/junior_face_24.jpg  \n",
            "  inflating: /content/dataset/train/junior/junior_face_21.jpg  \n",
            "  inflating: /content/dataset/train/junior/junior_face_38.jpg  \n",
            "  inflating: /content/dataset/train/junior/junior_face_14.jpg  \n",
            "  inflating: /content/dataset/train/junior/junior_face_15.jpg  \n",
            "  inflating: /content/dataset/train/junior/junior_face_25.jpg  \n",
            "  inflating: /content/dataset/train/junior/junior_face_18.jpg  \n",
            "  inflating: /content/dataset/train/junior/junior_face_28.jpg  \n"
          ]
        }
      ]
    },
    {
      "cell_type": "code",
      "execution_count": null,
      "id": "1bb2e658",
      "metadata": {
        "id": "1bb2e658"
      },
      "outputs": [],
      "source": [
        "import os"
      ]
    },
    {
      "cell_type": "code",
      "execution_count": null,
      "id": "160c982c",
      "metadata": {
        "id": "160c982c"
      },
      "outputs": [],
      "source": [
        "import tensorflow as tf"
      ]
    },
    {
      "cell_type": "code",
      "execution_count": null,
      "id": "8ec077c7",
      "metadata": {
        "id": "8ec077c7"
      },
      "outputs": [],
      "source": [
        "from tensorflow.keras.applications import VGG16\n",
        "from tensorflow.keras.preprocessing.image import ImageDataGenerator\n",
        "from tensorflow.keras.optimizers import RMSprop"
      ]
    },
    {
      "cell_type": "code",
      "execution_count": null,
      "id": "e9d16766",
      "metadata": {
        "lines_to_next_cell": 2,
        "id": "e9d16766"
      },
      "outputs": [],
      "source": [
        "from matplotlib import pyplot as plt"
      ]
    },
    {
      "cell_type": "code",
      "execution_count": null,
      "id": "e9bd97d2",
      "metadata": {
        "id": "e9bd97d2"
      },
      "outputs": [],
      "source": [
        "# size of the image\n",
        "TGSIZE = (224, 224)\n",
        "input_shape = (224, 224, 3)"
      ]
    },
    {
      "cell_type": "code",
      "execution_count": null,
      "id": "90fd1b69",
      "metadata": {
        "lines_to_next_cell": 2,
        "id": "90fd1b69"
      },
      "outputs": [],
      "source": [
        "dataset_path = '/content/dataset' # path to the dataset folder"
      ]
    },
    {
      "cell_type": "code",
      "execution_count": null,
      "id": "8158092b",
      "metadata": {
        "id": "8158092b"
      },
      "outputs": [],
      "source": [
        "train_dir = f'{dataset_path}/train'\n",
        "valid_dir = f'{dataset_path}/valid'\n",
        "test_dir = f'{dataset_path}/test'"
      ]
    },
    {
      "cell_type": "code",
      "execution_count": null,
      "id": "e29ef5c4",
      "metadata": {
        "id": "e29ef5c4"
      },
      "outputs": [],
      "source": [
        "train_junior_dir = os.path.join(train_dir, 'junior')\n",
        "train_gustavo_dir = os.path.join(train_dir, 'gustavo')"
      ]
    },
    {
      "cell_type": "code",
      "execution_count": null,
      "id": "e33bbe76",
      "metadata": {
        "id": "e33bbe76"
      },
      "outputs": [],
      "source": [
        "valid_junior_dir = os.path.join(valid_dir, 'junior')\n",
        "valid_gustavo_dir = os.path.join(valid_dir, 'gustavo')"
      ]
    },
    {
      "cell_type": "code",
      "source": [
        "test_junior_dir = os.path.join(test_dir, 'junior')\n",
        "test_gustavo_dir = os.path.join(test_dir, 'gustavo')"
      ],
      "metadata": {
        "id": "xR7V0NvhN8fl"
      },
      "id": "xR7V0NvhN8fl",
      "execution_count": null,
      "outputs": []
    },
    {
      "cell_type": "markdown",
      "id": "c7d9b94a",
      "metadata": {
        "id": "c7d9b94a"
      },
      "source": [
        "train and validation generator with data augmentation"
      ]
    },
    {
      "cell_type": "code",
      "execution_count": null,
      "id": "48f8233c",
      "metadata": {
        "id": "48f8233c"
      },
      "outputs": [],
      "source": [
        "def train_valid_generator(train_dir, valid_dir):\n",
        "\n",
        "    train_datagen = ImageDataGenerator(rescale=1./255, rotation_range=40, horizontal_flip=True, fill_mode='nearest')\n",
        "    valid_datagen = ImageDataGenerator(rescale=1./255)\n",
        "\n",
        "    train_generator = train_datagen.flow_from_directory(train_dir, target_size=TGSIZE, batch_size=20, class_mode='binary')\n",
        "    valid_generator = valid_datagen.flow_from_directory(valid_dir, target_size=TGSIZE, batch_size=20, class_mode='binary')\n",
        "\n",
        "    return train_generator, valid_generator"
      ]
    },
    {
      "cell_type": "code",
      "execution_count": null,
      "id": "1d8c5361",
      "metadata": {
        "lines_to_next_cell": 1,
        "id": "1d8c5361",
        "outputId": "825b8f8f-ce68-4623-c16f-3655df837379",
        "colab": {
          "base_uri": "https://localhost:8080/"
        }
      },
      "outputs": [
        {
          "output_type": "stream",
          "name": "stdout",
          "text": [
            "Found 75 images belonging to 2 classes.\n",
            "Found 20 images belonging to 2 classes.\n"
          ]
        }
      ],
      "source": [
        "train_generator, valid_generator = train_valid_generator(train_dir, valid_dir)"
      ]
    },
    {
      "cell_type": "code",
      "execution_count": null,
      "id": "24992ee3",
      "metadata": {
        "id": "24992ee3"
      },
      "outputs": [],
      "source": [
        "# load the VGG16 model\n",
        "def create_pretrained_model():\n",
        "\n",
        "    pre_trained_model_vgg16 = VGG16(input_shape=input_shape, weights=None, include_top=False)\n",
        "\n",
        "    for layer in pre_trained_model_vgg16.layers:\n",
        "        layer.trainable = False\n",
        "\n",
        "    return pre_trained_model_vgg16"
      ]
    },
    {
      "cell_type": "code",
      "execution_count": null,
      "id": "ae10cbb6",
      "metadata": {
        "id": "ae10cbb6"
      },
      "outputs": [],
      "source": [
        "pre_trained_model_vgg16 = create_pretrained_model()"
      ]
    },
    {
      "cell_type": "code",
      "execution_count": null,
      "id": "d8cd9d2d",
      "metadata": {
        "id": "d8cd9d2d",
        "outputId": "9fe806ef-09b4-4a26-e1cb-ef1cdb46be2f",
        "colab": {
          "base_uri": "https://localhost:8080/"
        }
      },
      "outputs": [
        {
          "output_type": "stream",
          "name": "stdout",
          "text": [
            "Model: \"vgg16\"\n",
            "_________________________________________________________________\n",
            " Layer (type)                Output Shape              Param #   \n",
            "=================================================================\n",
            " input_2 (InputLayer)        [(None, 224, 224, 3)]     0         \n",
            "                                                                 \n",
            " block1_conv1 (Conv2D)       (None, 224, 224, 64)      1792      \n",
            "                                                                 \n",
            " block1_conv2 (Conv2D)       (None, 224, 224, 64)      36928     \n",
            "                                                                 \n",
            " block1_pool (MaxPooling2D)  (None, 112, 112, 64)      0         \n",
            "                                                                 \n",
            " block2_conv1 (Conv2D)       (None, 112, 112, 128)     73856     \n",
            "                                                                 \n",
            " block2_conv2 (Conv2D)       (None, 112, 112, 128)     147584    \n",
            "                                                                 \n",
            " block2_pool (MaxPooling2D)  (None, 56, 56, 128)       0         \n",
            "                                                                 \n",
            " block3_conv1 (Conv2D)       (None, 56, 56, 256)       295168    \n",
            "                                                                 \n",
            " block3_conv2 (Conv2D)       (None, 56, 56, 256)       590080    \n",
            "                                                                 \n",
            " block3_conv3 (Conv2D)       (None, 56, 56, 256)       590080    \n",
            "                                                                 \n",
            " block3_pool (MaxPooling2D)  (None, 28, 28, 256)       0         \n",
            "                                                                 \n",
            " block4_conv1 (Conv2D)       (None, 28, 28, 512)       1180160   \n",
            "                                                                 \n",
            " block4_conv2 (Conv2D)       (None, 28, 28, 512)       2359808   \n",
            "                                                                 \n",
            " block4_conv3 (Conv2D)       (None, 28, 28, 512)       2359808   \n",
            "                                                                 \n",
            " block4_pool (MaxPooling2D)  (None, 14, 14, 512)       0         \n",
            "                                                                 \n",
            " block5_conv1 (Conv2D)       (None, 14, 14, 512)       2359808   \n",
            "                                                                 \n",
            " block5_conv2 (Conv2D)       (None, 14, 14, 512)       2359808   \n",
            "                                                                 \n",
            " block5_conv3 (Conv2D)       (None, 14, 14, 512)       2359808   \n",
            "                                                                 \n",
            " block5_pool (MaxPooling2D)  (None, 7, 7, 512)         0         \n",
            "                                                                 \n",
            "=================================================================\n",
            "Total params: 14714688 (56.13 MB)\n",
            "Trainable params: 0 (0.00 Byte)\n",
            "Non-trainable params: 14714688 (56.13 MB)\n",
            "_________________________________________________________________\n"
          ]
        }
      ],
      "source": [
        "# show the model summary\n",
        "pre_trained_model_vgg16.summary()"
      ]
    },
    {
      "cell_type": "code",
      "execution_count": null,
      "id": "4c23dd8d",
      "metadata": {
        "id": "4c23dd8d"
      },
      "outputs": [],
      "source": [
        "# callback to stop the training when the accuracy reaches 99.9%\n",
        "class myCallback(tf.keras.callbacks.Callback):\n",
        "\n",
        "  def on_epoch_end(self, epoch, logs={}):\n",
        "\n",
        "    if(logs.get('accuracy')>0.999):\n",
        "      print(\"\\nAtingi 99,9% de precisão, portanto, estou cancelando o treinamento!!\")\n",
        "      self.model.stop_training = True"
      ]
    },
    {
      "cell_type": "code",
      "execution_count": null,
      "id": "f9847b26",
      "metadata": {
        "lines_to_next_cell": 1,
        "id": "f9847b26"
      },
      "outputs": [],
      "source": [
        "# output of the last layer of the VGG16 model\n",
        "def output_last_layer(pre_trained_model_vgg16):\n",
        "\n",
        "    last_layer = pre_trained_model_vgg16.get_layer('block5_pool')\n",
        "    last_output = last_layer.output\n",
        "\n",
        "    return last_output"
      ]
    },
    {
      "cell_type": "code",
      "execution_count": null,
      "id": "339a4cc1",
      "metadata": {
        "id": "339a4cc1"
      },
      "outputs": [],
      "source": [
        "last_output = output_last_layer(pre_trained_model_vgg16)"
      ]
    },
    {
      "cell_type": "code",
      "execution_count": null,
      "id": "fe4adb98",
      "metadata": {
        "lines_to_next_cell": 1,
        "id": "fe4adb98"
      },
      "outputs": [],
      "source": [
        "# create the final model\n",
        "def create_final_model(pre_trained_model_vgg16, last_output):\n",
        "\n",
        "    x = tf.keras.layers.Flatten()(last_output)\n",
        "    x = tf.keras.layers.Dense(1024, activation='relu')(x)\n",
        "    x = tf.keras.layers.Dropout(0.2)(x)\n",
        "    x = tf.keras.layers.Dense(2, activation='softmax')(x)\n",
        "\n",
        "    model = tf.keras.Model(pre_trained_model_vgg16.input, x)\n",
        "\n",
        "    model.compile(optimizer='adam', loss='sparse_categorical_crossentropy', metrics=['accuracy'])\n",
        "\n",
        "    return model"
      ]
    },
    {
      "cell_type": "code",
      "execution_count": null,
      "id": "98f3c4a5",
      "metadata": {
        "id": "98f3c4a5"
      },
      "outputs": [],
      "source": [
        "model = create_final_model(pre_trained_model_vgg16, last_output)"
      ]
    },
    {
      "cell_type": "code",
      "execution_count": null,
      "id": "c998f1e4",
      "metadata": {
        "id": "c998f1e4",
        "outputId": "408db0be-aa1a-4458-9a8f-bddbbe753110",
        "colab": {
          "base_uri": "https://localhost:8080/"
        }
      },
      "outputs": [
        {
          "output_type": "stream",
          "name": "stdout",
          "text": [
            "Epoch 1/100\n",
            "4/4 - 6s - loss: 0.6916 - accuracy: 0.5333 - val_loss: 0.6801 - val_accuracy: 0.5000 - 6s/epoch - 2s/step\n",
            "Epoch 2/100\n",
            "4/4 - 1s - loss: 0.6846 - accuracy: 0.5600 - val_loss: 0.6730 - val_accuracy: 0.5000 - 1s/epoch - 290ms/step\n",
            "Epoch 3/100\n",
            "4/4 - 1s - loss: 0.6757 - accuracy: 0.5600 - val_loss: 0.6667 - val_accuracy: 0.5000 - 1s/epoch - 281ms/step\n",
            "Epoch 4/100\n",
            "4/4 - 1s - loss: 0.6719 - accuracy: 0.5600 - val_loss: 0.6610 - val_accuracy: 0.5000 - 1s/epoch - 278ms/step\n",
            "Epoch 5/100\n",
            "4/4 - 1s - loss: 0.6612 - accuracy: 0.5600 - val_loss: 0.6537 - val_accuracy: 0.5000 - 1s/epoch - 277ms/step\n",
            "Epoch 6/100\n",
            "4/4 - 1s - loss: 0.6496 - accuracy: 0.5733 - val_loss: 0.6452 - val_accuracy: 0.5000 - 1s/epoch - 279ms/step\n",
            "Epoch 7/100\n",
            "4/4 - 1s - loss: 0.6448 - accuracy: 0.6267 - val_loss: 0.6372 - val_accuracy: 0.6000 - 1s/epoch - 271ms/step\n",
            "Epoch 8/100\n",
            "4/4 - 1s - loss: 0.6337 - accuracy: 0.8133 - val_loss: 0.6262 - val_accuracy: 0.6000 - 1s/epoch - 349ms/step\n",
            "Epoch 9/100\n",
            "4/4 - 2s - loss: 0.6209 - accuracy: 0.7200 - val_loss: 0.6190 - val_accuracy: 0.5500 - 2s/epoch - 382ms/step\n",
            "Epoch 10/100\n",
            "4/4 - 1s - loss: 0.6156 - accuracy: 0.6667 - val_loss: 0.6118 - val_accuracy: 0.5500 - 1s/epoch - 277ms/step\n",
            "Epoch 11/100\n",
            "4/4 - 1s - loss: 0.5907 - accuracy: 0.6667 - val_loss: 0.5994 - val_accuracy: 0.5500 - 1s/epoch - 281ms/step\n",
            "Epoch 12/100\n",
            "4/4 - 1s - loss: 0.5701 - accuracy: 0.7867 - val_loss: 0.5778 - val_accuracy: 0.6000 - 1s/epoch - 280ms/step\n",
            "Epoch 13/100\n",
            "4/4 - 1s - loss: 0.5600 - accuracy: 0.8000 - val_loss: 0.5660 - val_accuracy: 0.6000 - 1s/epoch - 277ms/step\n",
            "Epoch 14/100\n",
            "4/4 - 1s - loss: 0.5498 - accuracy: 0.8133 - val_loss: 0.5691 - val_accuracy: 0.6000 - 1s/epoch - 277ms/step\n",
            "Epoch 15/100\n",
            "4/4 - 1s - loss: 0.5313 - accuracy: 0.7600 - val_loss: 0.5662 - val_accuracy: 0.6000 - 1s/epoch - 273ms/step\n",
            "Epoch 16/100\n",
            "4/4 - 1s - loss: 0.5473 - accuracy: 0.7600 - val_loss: 0.5336 - val_accuracy: 0.6500 - 1s/epoch - 269ms/step\n",
            "Epoch 17/100\n",
            "4/4 - 1s - loss: 0.4875 - accuracy: 0.8667 - val_loss: 0.5199 - val_accuracy: 0.6500 - 1s/epoch - 281ms/step\n",
            "Epoch 18/100\n",
            "4/4 - 1s - loss: 0.4901 - accuracy: 0.8133 - val_loss: 0.5199 - val_accuracy: 0.6000 - 1s/epoch - 369ms/step\n",
            "Epoch 19/100\n",
            "4/4 - 1s - loss: 0.4751 - accuracy: 0.8133 - val_loss: 0.5589 - val_accuracy: 0.6000 - 1s/epoch - 352ms/step\n",
            "Epoch 20/100\n",
            "4/4 - 1s - loss: 0.4739 - accuracy: 0.7867 - val_loss: 0.5265 - val_accuracy: 0.6000 - 1s/epoch - 278ms/step\n",
            "Epoch 21/100\n",
            "4/4 - 2s - loss: 0.4385 - accuracy: 0.8667 - val_loss: 0.4746 - val_accuracy: 0.6500 - 2s/epoch - 448ms/step\n",
            "Epoch 22/100\n",
            "4/4 - 1s - loss: 0.4537 - accuracy: 0.8267 - val_loss: 0.4703 - val_accuracy: 0.6500 - 1s/epoch - 286ms/step\n",
            "Epoch 23/100\n",
            "4/4 - 1s - loss: 0.4736 - accuracy: 0.7867 - val_loss: 0.5512 - val_accuracy: 0.6000 - 1s/epoch - 299ms/step\n",
            "Epoch 24/100\n",
            "4/4 - 1s - loss: 0.4028 - accuracy: 0.8000 - val_loss: 0.4954 - val_accuracy: 0.6000 - 1s/epoch - 284ms/step\n",
            "Epoch 25/100\n",
            "4/4 - 1s - loss: 0.4412 - accuracy: 0.8133 - val_loss: 0.4168 - val_accuracy: 0.8500 - 1s/epoch - 274ms/step\n",
            "Epoch 26/100\n",
            "4/4 - 1s - loss: 0.4196 - accuracy: 0.7867 - val_loss: 0.4746 - val_accuracy: 0.6500 - 1s/epoch - 350ms/step\n",
            "Epoch 27/100\n",
            "4/4 - 1s - loss: 0.4639 - accuracy: 0.8000 - val_loss: 0.5929 - val_accuracy: 0.6000 - 1s/epoch - 288ms/step\n",
            "Epoch 28/100\n",
            "4/4 - 1s - loss: 0.4336 - accuracy: 0.8400 - val_loss: 0.4596 - val_accuracy: 0.6500 - 1s/epoch - 277ms/step\n",
            "Epoch 29/100\n",
            "4/4 - 1s - loss: 0.4179 - accuracy: 0.8400 - val_loss: 0.4128 - val_accuracy: 0.7500 - 1s/epoch - 270ms/step\n",
            "Epoch 30/100\n",
            "4/4 - 1s - loss: 0.4319 - accuracy: 0.8533 - val_loss: 0.5004 - val_accuracy: 0.6500 - 1s/epoch - 276ms/step\n",
            "Epoch 31/100\n",
            "4/4 - 1s - loss: 0.3465 - accuracy: 0.8800 - val_loss: 0.5345 - val_accuracy: 0.6500 - 1s/epoch - 270ms/step\n",
            "Epoch 32/100\n",
            "4/4 - 1s - loss: 0.4034 - accuracy: 0.8533 - val_loss: 0.4707 - val_accuracy: 0.6500 - 1s/epoch - 269ms/step\n",
            "Epoch 33/100\n",
            "4/4 - 1s - loss: 0.3875 - accuracy: 0.8267 - val_loss: 0.4415 - val_accuracy: 0.6500 - 1s/epoch - 273ms/step\n",
            "Epoch 34/100\n",
            "4/4 - 1s - loss: 0.3960 - accuracy: 0.8400 - val_loss: 0.5283 - val_accuracy: 0.6500 - 1s/epoch - 271ms/step\n",
            "Epoch 35/100\n",
            "4/4 - 2s - loss: 0.3810 - accuracy: 0.8133 - val_loss: 0.4929 - val_accuracy: 0.6500 - 2s/epoch - 385ms/step\n",
            "Epoch 36/100\n",
            "4/4 - 1s - loss: 0.3843 - accuracy: 0.8533 - val_loss: 0.4686 - val_accuracy: 0.6500 - 1s/epoch - 274ms/step\n",
            "Epoch 37/100\n",
            "4/4 - 1s - loss: 0.3582 - accuracy: 0.8800 - val_loss: 0.4574 - val_accuracy: 0.6500 - 1s/epoch - 276ms/step\n",
            "Epoch 38/100\n",
            "4/4 - 1s - loss: 0.3905 - accuracy: 0.8133 - val_loss: 0.5015 - val_accuracy: 0.6500 - 1s/epoch - 283ms/step\n",
            "Epoch 39/100\n",
            "4/4 - 1s - loss: 0.3626 - accuracy: 0.8667 - val_loss: 0.4737 - val_accuracy: 0.6500 - 1s/epoch - 280ms/step\n",
            "Epoch 40/100\n",
            "4/4 - 1s - loss: 0.3727 - accuracy: 0.8133 - val_loss: 0.3786 - val_accuracy: 0.7500 - 1s/epoch - 273ms/step\n",
            "Epoch 41/100\n",
            "4/4 - 1s - loss: 0.3664 - accuracy: 0.8400 - val_loss: 0.3919 - val_accuracy: 0.7500 - 1s/epoch - 276ms/step\n",
            "Epoch 42/100\n",
            "4/4 - 1s - loss: 0.3715 - accuracy: 0.8133 - val_loss: 0.5260 - val_accuracy: 0.6500 - 1s/epoch - 281ms/step\n",
            "Epoch 43/100\n",
            "4/4 - 1s - loss: 0.4235 - accuracy: 0.8267 - val_loss: 0.4957 - val_accuracy: 0.6500 - 1s/epoch - 275ms/step\n",
            "Epoch 44/100\n",
            "4/4 - 1s - loss: 0.3322 - accuracy: 0.8533 - val_loss: 0.4536 - val_accuracy: 0.6500 - 1s/epoch - 371ms/step\n",
            "Epoch 45/100\n",
            "4/4 - 1s - loss: 0.3653 - accuracy: 0.8533 - val_loss: 0.4115 - val_accuracy: 0.7000 - 1s/epoch - 277ms/step\n",
            "Epoch 46/100\n",
            "4/4 - 1s - loss: 0.3458 - accuracy: 0.8533 - val_loss: 0.4016 - val_accuracy: 0.7000 - 1s/epoch - 282ms/step\n",
            "Epoch 47/100\n",
            "4/4 - 1s - loss: 0.3835 - accuracy: 0.8400 - val_loss: 0.5356 - val_accuracy: 0.6500 - 1s/epoch - 277ms/step\n",
            "Epoch 48/100\n",
            "4/4 - 1s - loss: 0.3414 - accuracy: 0.8667 - val_loss: 0.5051 - val_accuracy: 0.6500 - 1s/epoch - 272ms/step\n",
            "Epoch 49/100\n",
            "4/4 - 1s - loss: 0.3113 - accuracy: 0.8800 - val_loss: 0.3871 - val_accuracy: 0.7000 - 1s/epoch - 282ms/step\n",
            "Epoch 50/100\n",
            "4/4 - 1s - loss: 0.3301 - accuracy: 0.8267 - val_loss: 0.4958 - val_accuracy: 0.6500 - 1s/epoch - 275ms/step\n",
            "Epoch 51/100\n",
            "4/4 - 1s - loss: 0.2836 - accuracy: 0.8933 - val_loss: 0.4810 - val_accuracy: 0.6500 - 1s/epoch - 278ms/step\n",
            "Epoch 52/100\n",
            "4/4 - 1s - loss: 0.3177 - accuracy: 0.8667 - val_loss: 0.4412 - val_accuracy: 0.7000 - 1s/epoch - 285ms/step\n",
            "Epoch 53/100\n",
            "4/4 - 2s - loss: 0.3777 - accuracy: 0.8533 - val_loss: 0.3816 - val_accuracy: 0.7000 - 2s/epoch - 447ms/step\n",
            "Epoch 54/100\n",
            "4/4 - 1s - loss: 0.3010 - accuracy: 0.8533 - val_loss: 0.5361 - val_accuracy: 0.6500 - 1s/epoch - 275ms/step\n",
            "Epoch 55/100\n",
            "4/4 - 1s - loss: 0.3206 - accuracy: 0.8533 - val_loss: 0.5276 - val_accuracy: 0.6500 - 1s/epoch - 266ms/step\n",
            "Epoch 56/100\n",
            "4/4 - 1s - loss: 0.3828 - accuracy: 0.8267 - val_loss: 0.3638 - val_accuracy: 0.7500 - 1s/epoch - 271ms/step\n",
            "Epoch 57/100\n",
            "4/4 - 1s - loss: 0.3108 - accuracy: 0.8400 - val_loss: 0.3920 - val_accuracy: 0.7000 - 1s/epoch - 277ms/step\n",
            "Epoch 58/100\n",
            "4/4 - 1s - loss: 0.3493 - accuracy: 0.8533 - val_loss: 0.4594 - val_accuracy: 0.7000 - 1s/epoch - 277ms/step\n",
            "Epoch 59/100\n",
            "4/4 - 1s - loss: 0.2466 - accuracy: 0.9067 - val_loss: 0.4225 - val_accuracy: 0.7000 - 1s/epoch - 278ms/step\n",
            "Epoch 60/100\n",
            "4/4 - 1s - loss: 0.3115 - accuracy: 0.8667 - val_loss: 0.3739 - val_accuracy: 0.7000 - 1s/epoch - 271ms/step\n",
            "Epoch 61/100\n",
            "4/4 - 1s - loss: 0.3198 - accuracy: 0.8533 - val_loss: 0.3742 - val_accuracy: 0.7000 - 1s/epoch - 274ms/step\n",
            "Epoch 62/100\n",
            "4/4 - 2s - loss: 0.3623 - accuracy: 0.8800 - val_loss: 0.5480 - val_accuracy: 0.6500 - 2s/epoch - 392ms/step\n",
            "Epoch 63/100\n",
            "4/4 - 1s - loss: 0.3259 - accuracy: 0.8800 - val_loss: 0.4652 - val_accuracy: 0.7000 - 1s/epoch - 280ms/step\n",
            "Epoch 64/100\n",
            "4/4 - 1s - loss: 0.2563 - accuracy: 0.8800 - val_loss: 0.3020 - val_accuracy: 0.7500 - 1s/epoch - 283ms/step\n",
            "Epoch 65/100\n",
            "4/4 - 1s - loss: 0.3451 - accuracy: 0.8400 - val_loss: 0.3617 - val_accuracy: 0.7500 - 1s/epoch - 280ms/step\n",
            "Epoch 66/100\n",
            "4/4 - 1s - loss: 0.2700 - accuracy: 0.8800 - val_loss: 0.4343 - val_accuracy: 0.7000 - 1s/epoch - 284ms/step\n",
            "Epoch 67/100\n",
            "4/4 - 1s - loss: 0.3205 - accuracy: 0.8533 - val_loss: 0.3886 - val_accuracy: 0.7000 - 1s/epoch - 278ms/step\n",
            "Epoch 68/100\n",
            "4/4 - 1s - loss: 0.2794 - accuracy: 0.8667 - val_loss: 0.3614 - val_accuracy: 0.7000 - 1s/epoch - 282ms/step\n",
            "Epoch 69/100\n",
            "4/4 - 1s - loss: 0.2814 - accuracy: 0.8667 - val_loss: 0.4321 - val_accuracy: 0.7000 - 1s/epoch - 276ms/step\n",
            "Epoch 70/100\n",
            "4/4 - 1s - loss: 0.3133 - accuracy: 0.8533 - val_loss: 0.4133 - val_accuracy: 0.7000 - 1s/epoch - 277ms/step\n",
            "Epoch 71/100\n",
            "4/4 - 2s - loss: 0.2361 - accuracy: 0.9200 - val_loss: 0.4188 - val_accuracy: 0.7000 - 2s/epoch - 418ms/step\n",
            "Epoch 72/100\n",
            "4/4 - 1s - loss: 0.2831 - accuracy: 0.8933 - val_loss: 0.4556 - val_accuracy: 0.7000 - 1s/epoch - 277ms/step\n",
            "Epoch 73/100\n",
            "4/4 - 1s - loss: 0.2624 - accuracy: 0.8933 - val_loss: 0.4297 - val_accuracy: 0.7000 - 1s/epoch - 284ms/step\n",
            "Epoch 74/100\n",
            "4/4 - 1s - loss: 0.3213 - accuracy: 0.8533 - val_loss: 0.3881 - val_accuracy: 0.7000 - 1s/epoch - 276ms/step\n",
            "Epoch 75/100\n",
            "4/4 - 1s - loss: 0.2432 - accuracy: 0.9067 - val_loss: 0.3820 - val_accuracy: 0.7000 - 1s/epoch - 279ms/step\n",
            "Epoch 76/100\n",
            "4/4 - 1s - loss: 0.3010 - accuracy: 0.8267 - val_loss: 0.4029 - val_accuracy: 0.7000 - 1s/epoch - 280ms/step\n",
            "Epoch 77/100\n",
            "4/4 - 1s - loss: 0.2503 - accuracy: 0.9200 - val_loss: 0.3702 - val_accuracy: 0.7000 - 1s/epoch - 272ms/step\n",
            "Epoch 78/100\n",
            "4/4 - 1s - loss: 0.2369 - accuracy: 0.9067 - val_loss: 0.3397 - val_accuracy: 0.7000 - 1s/epoch - 277ms/step\n",
            "Epoch 79/100\n",
            "4/4 - 1s - loss: 0.2943 - accuracy: 0.8800 - val_loss: 0.4837 - val_accuracy: 0.7000 - 1s/epoch - 274ms/step\n",
            "Epoch 80/100\n",
            "4/4 - 2s - loss: 0.2815 - accuracy: 0.9200 - val_loss: 0.4583 - val_accuracy: 0.7000 - 2s/epoch - 437ms/step\n",
            "Epoch 81/100\n",
            "4/4 - 1s - loss: 0.2092 - accuracy: 0.9333 - val_loss: 0.4391 - val_accuracy: 0.7000 - 1s/epoch - 321ms/step\n",
            "Epoch 82/100\n",
            "4/4 - 1s - loss: 0.2476 - accuracy: 0.9067 - val_loss: 0.4065 - val_accuracy: 0.7000 - 1s/epoch - 284ms/step\n",
            "Epoch 83/100\n",
            "4/4 - 1s - loss: 0.2225 - accuracy: 0.9200 - val_loss: 0.4526 - val_accuracy: 0.7000 - 1s/epoch - 290ms/step\n",
            "Epoch 84/100\n",
            "4/4 - 1s - loss: 0.2488 - accuracy: 0.9067 - val_loss: 0.3363 - val_accuracy: 0.7500 - 1s/epoch - 280ms/step\n",
            "Epoch 85/100\n",
            "4/4 - 1s - loss: 0.2700 - accuracy: 0.8667 - val_loss: 0.3261 - val_accuracy: 0.8000 - 1s/epoch - 286ms/step\n",
            "Epoch 86/100\n",
            "4/4 - 1s - loss: 0.2331 - accuracy: 0.9200 - val_loss: 0.3934 - val_accuracy: 0.7000 - 1s/epoch - 279ms/step\n",
            "Epoch 87/100\n",
            "4/4 - 1s - loss: 0.3657 - accuracy: 0.8267 - val_loss: 0.4189 - val_accuracy: 0.7000 - 1s/epoch - 273ms/step\n",
            "Epoch 88/100\n",
            "4/4 - 1s - loss: 0.2965 - accuracy: 0.8667 - val_loss: 0.3174 - val_accuracy: 0.8000 - 1s/epoch - 282ms/step\n",
            "Epoch 89/100\n",
            "4/4 - 1s - loss: 0.2658 - accuracy: 0.8933 - val_loss: 0.3736 - val_accuracy: 0.7000 - 1s/epoch - 365ms/step\n",
            "Epoch 90/100\n",
            "4/4 - 2s - loss: 0.2780 - accuracy: 0.8400 - val_loss: 0.3308 - val_accuracy: 0.8000 - 2s/epoch - 386ms/step\n",
            "Epoch 91/100\n",
            "4/4 - 1s - loss: 0.2758 - accuracy: 0.8933 - val_loss: 0.3953 - val_accuracy: 0.7000 - 1s/epoch - 283ms/step\n",
            "Epoch 92/100\n",
            "4/4 - 1s - loss: 0.2630 - accuracy: 0.8933 - val_loss: 0.3506 - val_accuracy: 0.8000 - 1s/epoch - 274ms/step\n",
            "Epoch 93/100\n",
            "4/4 - 1s - loss: 0.2675 - accuracy: 0.8933 - val_loss: 0.3475 - val_accuracy: 0.8000 - 1s/epoch - 275ms/step\n",
            "Epoch 94/100\n",
            "4/4 - 1s - loss: 0.2862 - accuracy: 0.8800 - val_loss: 0.2994 - val_accuracy: 0.8000 - 1s/epoch - 269ms/step\n",
            "Epoch 95/100\n",
            "4/4 - 1s - loss: 0.2720 - accuracy: 0.8933 - val_loss: 0.3125 - val_accuracy: 0.8000 - 1s/epoch - 282ms/step\n",
            "Epoch 96/100\n",
            "4/4 - 1s - loss: 0.2441 - accuracy: 0.9200 - val_loss: 0.3855 - val_accuracy: 0.7000 - 1s/epoch - 275ms/step\n",
            "Epoch 97/100\n",
            "4/4 - 1s - loss: 0.2406 - accuracy: 0.9067 - val_loss: 0.4901 - val_accuracy: 0.7000 - 1s/epoch - 272ms/step\n",
            "Epoch 98/100\n",
            "4/4 - 1s - loss: 0.2331 - accuracy: 0.8933 - val_loss: 0.3671 - val_accuracy: 0.7000 - 1s/epoch - 276ms/step\n",
            "Epoch 99/100\n",
            "4/4 - 1s - loss: 0.2531 - accuracy: 0.9200 - val_loss: 0.3148 - val_accuracy: 0.8000 - 1s/epoch - 332ms/step\n",
            "Epoch 100/100\n",
            "4/4 - 2s - loss: 0.2682 - accuracy: 0.9067 - val_loss: 0.2796 - val_accuracy: 0.8000 - 2s/epoch - 558ms/step\n"
          ]
        }
      ],
      "source": [
        "callbacks = myCallback()\n",
        "history = model.fit(train_generator, validation_data=valid_generator, epochs=100, verbose=2, callbacks=[callbacks])"
      ]
    },
    {
      "cell_type": "code",
      "source": [
        "model.save('/content/models/model_weight.h5')"
      ],
      "metadata": {
        "colab": {
          "base_uri": "https://localhost:8080/",
          "height": 141
        },
        "id": "C6A58cQ_Vcjg",
        "outputId": "1e52afbe-3968-46ce-f8b2-d7a9ffa2530b"
      },
      "id": "C6A58cQ_Vcjg",
      "execution_count": 1,
      "outputs": [
        {
          "output_type": "error",
          "ename": "NameError",
          "evalue": "name 'model' is not defined",
          "traceback": [
            "\u001b[0;31m---------------------------------------------------------------------------\u001b[0m",
            "\u001b[0;31mNameError\u001b[0m                                 Traceback (most recent call last)",
            "\u001b[0;32m<ipython-input-1-04203d8ab039>\u001b[0m in \u001b[0;36m<cell line: 1>\u001b[0;34m()\u001b[0m\n\u001b[0;32m----> 1\u001b[0;31m \u001b[0mmodel\u001b[0m\u001b[0;34m.\u001b[0m\u001b[0msave\u001b[0m\u001b[0;34m(\u001b[0m\u001b[0;34m'/content/models/model_weight.h5'\u001b[0m\u001b[0;34m)\u001b[0m\u001b[0;34m\u001b[0m\u001b[0;34m\u001b[0m\u001b[0m\n\u001b[0m",
            "\u001b[0;31mNameError\u001b[0m: name 'model' is not defined"
          ]
        }
      ]
    },
    {
      "cell_type": "code",
      "execution_count": null,
      "id": "df7cd553",
      "metadata": {
        "id": "df7cd553"
      },
      "outputs": [],
      "source": [
        "acc = history.history['accuracy']\n",
        "val_acc = history.history['val_accuracy']\n",
        "loss = history.history['loss']\n",
        "val_loss = history.history['val_loss']"
      ]
    },
    {
      "cell_type": "code",
      "execution_count": null,
      "id": "4730cdb7",
      "metadata": {
        "id": "4730cdb7"
      },
      "outputs": [],
      "source": [
        "epochs = range(len(acc))"
      ]
    },
    {
      "cell_type": "code",
      "execution_count": null,
      "id": "f8764df5",
      "metadata": {
        "id": "f8764df5",
        "colab": {
          "base_uri": "https://localhost:8080/",
          "height": 488
        },
        "outputId": "78e3b26f-6861-4521-cb80-ff6f0c3c03e4"
      },
      "outputs": [
        {
          "output_type": "execute_result",
          "data": {
            "text/plain": [
              "<Figure size 640x480 with 0 Axes>"
            ]
          },
          "metadata": {},
          "execution_count": 47
        },
        {
          "output_type": "display_data",
          "data": {
            "text/plain": [
              "<Figure size 640x480 with 1 Axes>"
            ],
            "image/png": "[encoded data removed]"
          },
          "metadata": {}
        },
        {
          "output_type": "display_data",
          "data": {
            "text/plain": [
              "<Figure size 640x480 with 0 Axes>"
            ]
          },
          "metadata": {}
        }
      ],
      "source": [
        "plt.plot(epochs, acc, 'r', label='Acurácia de Treino')\n",
        "plt.plot(epochs, val_acc, 'b', label='Acurácia de Validação')\n",
        "plt.title('Acurácia de Treino e Validação')\n",
        "plt.legend(loc=0)\n",
        "plt.figure()"
      ]
    },
    {
      "cell_type": "code",
      "execution_count": null,
      "id": "494e3d0f",
      "metadata": {
        "id": "494e3d0f"
      },
      "outputs": [],
      "source": [
        "plt.show()"
      ]
    },
    {
      "cell_type": "code",
      "source": [
        "from tensorflow.keras.utils import load_img, img_to_array\n",
        "import numpy as np\n",
        "from random import shuffle\n",
        "\n",
        "images_JUNIOR = [os.path.join(test_junior_dir, f) for f in os.listdir(test_junior_dir)]\n",
        "images_GUSTAVO = [os.path.join(test_gustavo_dir, f) for f in os.listdir(test_gustavo_dir)]\n",
        "\n",
        "all_images = []\n",
        "all_images.extend(images_GUSTAVO)\n",
        "all_images.extend(images_JUNIOR)\n",
        "\n",
        "\n",
        "shuffle(all_images)\n",
        "for img in all_images:\n",
        "    try:\n",
        "      image = load_img(img, target_size=TGSIZE)\n",
        "      x = img_to_array(image)\n",
        "      x = x / 255.0\n",
        "      x = np.expand_dims(x, axis=0)\n",
        "      images = np.vstack([x])\n",
        "\n",
        "      classes = model.predict(images, batch_size=10)\n",
        "\n",
        "      if classes[0][0]>0.5:\n",
        "        print(img + \" é um GUSTAVO\")\n",
        "        print('Com uma precisão de ' + classes[0][0])\n",
        "      else:\n",
        "        print(img + \" é um JUNIOR\")\n",
        "        print('Com uma precisão de ' + classes[0][1])\n",
        "    except:\n",
        "      pass\n",
        "\n"
      ],
      "metadata": {
        "colab": {
          "base_uri": "https://localhost:8080/"
        },
        "id": "1WyGUkd3Oayu",
        "outputId": "7478216c-80b3-4722-c823-bd7e0e08278b"
      },
      "id": "1WyGUkd3Oayu",
      "execution_count": 66,
      "outputs": [
        {
          "output_type": "stream",
          "name": "stdout",
          "text": [
            "1/1 [==============================] - 0s 33ms/step\n",
            "/content/dataset/test/junior/junior_face_30.jpg é um JUNIOR\n",
            "1/1 [==============================] - 0s 28ms/step\n",
            "/content/dataset/test/gustavo/gustavo_face_55.jpg é um GUSTAVO\n",
            "1/1 [==============================] - 0s 37ms/step\n",
            "/content/dataset/test/junior/junior_face_17.jpg é um JUNIOR\n",
            "1/1 [==============================] - 0s 32ms/step\n",
            "/content/dataset/test/junior/junior_face_36.jpg é um JUNIOR\n",
            "1/1 [==============================] - 0s 31ms/step\n",
            "/content/dataset/test/junior/junior_face_13.jpg é um JUNIOR\n",
            "1/1 [==============================] - 0s 22ms/step\n",
            "/content/dataset/test/junior/junior_face_52.jpg é um JUNIOR\n",
            "1/1 [==============================] - 0s 18ms/step\n",
            "/content/dataset/test/gustavo/gustavo_face_40.jpg é um GUSTAVO\n",
            "1/1 [==============================] - 0s 20ms/step\n",
            "/content/dataset/test/junior/junior_face_45.jpg é um JUNIOR\n",
            "1/1 [==============================] - 0s 22ms/step\n",
            "/content/dataset/test/junior/junior_face_59.jpg é um JUNIOR\n",
            "1/1 [==============================] - 0s 24ms/step\n",
            "/content/dataset/test/gustavo/gustavo_face_45.jpg é um GUSTAVO\n"
          ]
        }
      ]
    }
  ],
  "metadata": {
    "jupytext": {
      "cell_metadata_filter": "-all",
      "main_language": "python",
      "notebook_metadata_filter": "-all"
    },
    "colab": {
      "provenance": [],
      "gpuType": "T4"
    },
    "language_info": {
      "name": "python"
    },
    "kernelspec": {
      "name": "python3",
      "display_name": "Python 3"
    },
    "accelerator": "GPU"
  },
  "nbformat": 4,
  "nbformat_minor": 5
}